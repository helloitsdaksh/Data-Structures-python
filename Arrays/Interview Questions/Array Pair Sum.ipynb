{
 "cells": [
  {
   "cell_type": "markdown",
   "source": [
    "Array Pair Sum\n",
    "Problem\n",
    "Given an integer array, output all the ** unique ** pairs that sum up to a specific value k.\n",
    "\n",
    "So the input:\n",
    "\n",
    "pair_sum([1,3,2,2],4)\n",
    "\n",
    "would return 2 pairs:\n",
    "\n",
    " (1,3)\n",
    " (2,2)\n",
    "\n",
    "NOTE: FOR TESTING PURPOSES CHANGE YOUR FUNCTION SO IT OUTPUTS THE NUMBER OF PAIRS\n",
    "\n",
    "Solution\n",
    "Fill out your solution below:"
   ],
   "metadata": {
    "collapsed": false
   }
  },
  {
   "cell_type": "code",
   "execution_count": 1,
   "outputs": [],
   "source": [
    "def pair_sum(arr,k):\n",
    "\n",
    "    if len(arr)<2:\n",
    "        return\n",
    "\n",
    "    # Sets for tracking\n",
    "    seen = set()\n",
    "    output = set()\n",
    "\n",
    "    # For every number in array\n",
    "    for num in arr:\n",
    "\n",
    "        # Set target difference\n",
    "        target = k-num\n",
    "\n",
    "        # Add it to set if target hasn't been seen\n",
    "        if target not in seen:\n",
    "            seen.add(num)\n",
    "\n",
    "        else:\n",
    "            # Add a tuple with the corresponding pair\n",
    "            output.add( (min(num,target),  max(num,target)) )\n",
    "\n",
    "\n",
    "    # FOR TESTING\n",
    "    return len(output)\n",
    "    # Nice one-liner for printing output\n",
    "    #return '\\n'.join(map(str,list(output)))"
   ],
   "metadata": {
    "collapsed": false
   }
  },
  {
   "cell_type": "code",
   "execution_count": 2,
   "outputs": [
    {
     "data": {
      "text/plain": "2"
     },
     "execution_count": 2,
     "metadata": {},
     "output_type": "execute_result"
    }
   ],
   "source": [
    "\n",
    "pair_sum([1,3,2,2],4)"
   ],
   "metadata": {
    "collapsed": false
   }
  },
  {
   "cell_type": "code",
   "execution_count": null,
   "outputs": [],
   "source": [],
   "metadata": {
    "collapsed": false
   }
  }
 ],
 "metadata": {
  "kernelspec": {
   "display_name": "Python 3",
   "language": "python",
   "name": "python3"
  },
  "language_info": {
   "codemirror_mode": {
    "name": "ipython",
    "version": 2
   },
   "file_extension": ".py",
   "mimetype": "text/x-python",
   "name": "python",
   "nbconvert_exporter": "python",
   "pygments_lexer": "ipython2",
   "version": "2.7.6"
  }
 },
 "nbformat": 4,
 "nbformat_minor": 0
}
